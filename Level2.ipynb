{
  "nbformat": 4,
  "nbformat_minor": 0,
  "metadata": {
    "colab": {
      "name": "Level2.ipynb",
      "provenance": [],
      "authorship_tag": "ABX9TyNLQGDB9jEtZRoSTmp+m+cC",
      "include_colab_link": true
    },
    "kernelspec": {
      "name": "python3",
      "display_name": "Python 3"
    },
    "language_info": {
      "name": "python"
    }
  },
  "cells": [
    {
      "cell_type": "markdown",
      "metadata": {
        "id": "view-in-github",
        "colab_type": "text"
      },
      "source": [
        "<a href=\"https://colab.research.google.com/github/Karla-Flores/Big-Data--Challenge/blob/main/Level2.ipynb\" target=\"_parent\"><img src=\"https://colab.research.google.com/assets/colab-badge.svg\" alt=\"Open In Colab\"/></a>"
      ]
    },
    {
      "cell_type": "code",
      "metadata": {
        "colab": {
          "base_uri": "https://localhost:8080/"
        },
        "id": "M7EGJjQcyIz4",
        "outputId": "b2058765-06b0-414f-8b62-997e7f8a0977"
      },
      "source": [
        "import os\n",
        "# Find the latest version of spark 3.0  from http://www.apache.org/dist/spark/ and enter as the spark version\n",
        "# For example:\n",
        "# spark_version = 'spark-3.0.3'\n",
        "spark_version = 'spark-3.1.2'\n",
        "os.environ['SPARK_VERSION']=spark_version\n",
        "\n",
        "# Install Spark and Java\n",
        "!apt-get update\n",
        "!apt-get install openjdk-8-jdk-headless -qq > /dev/null\n",
        "!wget -q http://www.apache.org/dist/spark/$SPARK_VERSION/$SPARK_VERSION-bin-hadoop2.7.tgz\n",
        "!tar xf $SPARK_VERSION-bin-hadoop2.7.tgz\n",
        "!pip install -q findspark\n",
        "\n",
        "# Set Environment Variables\n",
        "os.environ[\"JAVA_HOME\"] = \"/usr/lib/jvm/java-8-openjdk-amd64\"\n",
        "os.environ[\"SPARK_HOME\"] = f\"/content/{spark_version}-bin-hadoop2.7\"\n",
        "\n",
        "# Start a SparkSession\n",
        "import findspark\n",
        "findspark.init()"
      ],
      "execution_count": 1,
      "outputs": [
        {
          "output_type": "stream",
          "name": "stdout",
          "text": [
            "\r0% [Working]\r            \rGet:1 http://security.ubuntu.com/ubuntu bionic-security InRelease [88.7 kB]\n",
            "\r0% [Connecting to archive.ubuntu.com (91.189.88.142)] [1 InRelease 14.2 kB/88.7\r0% [Connecting to archive.ubuntu.com (91.189.88.142)] [Connected to cloud.r-pro\r0% [1 InRelease gpgv 88.7 kB] [Waiting for headers] [Waiting for headers] [Conn\r                                                                               \rGet:2 https://cloud.r-project.org/bin/linux/ubuntu bionic-cran40/ InRelease [3,626 B]\n",
            "Ign:3 https://developer.download.nvidia.com/compute/cuda/repos/ubuntu1804/x86_64  InRelease\n",
            "Hit:4 http://archive.ubuntu.com/ubuntu bionic InRelease\n",
            "Ign:5 https://developer.download.nvidia.com/compute/machine-learning/repos/ubuntu1804/x86_64  InRelease\n",
            "Hit:6 https://developer.download.nvidia.com/compute/cuda/repos/ubuntu1804/x86_64  Release\n",
            "Hit:7 https://developer.download.nvidia.com/compute/machine-learning/repos/ubuntu1804/x86_64  Release\n",
            "Get:8 http://ppa.launchpad.net/c2d4u.team/c2d4u4.0+/ubuntu bionic InRelease [15.9 kB]\n",
            "Get:9 http://archive.ubuntu.com/ubuntu bionic-updates InRelease [88.7 kB]\n",
            "Get:10 http://security.ubuntu.com/ubuntu bionic-security/restricted amd64 Packages [581 kB]\n",
            "Hit:11 http://ppa.launchpad.net/cran/libgit2/ubuntu bionic InRelease\n",
            "Get:12 http://archive.ubuntu.com/ubuntu bionic-backports InRelease [74.6 kB]\n",
            "Get:13 http://security.ubuntu.com/ubuntu bionic-security/main amd64 Packages [2,335 kB]\n",
            "Hit:14 http://ppa.launchpad.net/deadsnakes/ppa/ubuntu bionic InRelease\n",
            "Get:15 http://security.ubuntu.com/ubuntu bionic-security/universe amd64 Packages [1,428 kB]\n",
            "Hit:16 http://ppa.launchpad.net/graphics-drivers/ppa/ubuntu bionic InRelease\n",
            "Get:17 https://cloud.r-project.org/bin/linux/ubuntu bionic-cran40/ Packages [67.4 kB]\n",
            "Get:20 http://ppa.launchpad.net/c2d4u.team/c2d4u4.0+/ubuntu bionic/main Sources [1,802 kB]\n",
            "Get:21 http://archive.ubuntu.com/ubuntu bionic-updates/restricted amd64 Packages [613 kB]\n",
            "Get:22 http://archive.ubuntu.com/ubuntu bionic-updates/universe amd64 Packages [2,202 kB]\n",
            "Get:23 http://ppa.launchpad.net/c2d4u.team/c2d4u4.0+/ubuntu bionic/main amd64 Packages [922 kB]\n",
            "Get:24 http://archive.ubuntu.com/ubuntu bionic-updates/main amd64 Packages [2,770 kB]\n",
            "Fetched 13.0 MB in 6s (2,206 kB/s)\n",
            "Reading package lists... Done\n"
          ]
        }
      ]
    },
    {
      "cell_type": "code",
      "metadata": {
        "colab": {
          "base_uri": "https://localhost:8080/"
        },
        "id": "SJd2nmlmydt8",
        "outputId": "cb02e676-6e00-4b2b-9d0d-e2f4af1fdcf5"
      },
      "source": [
        "# For connection to Postgres\n",
        "!wget https://jdbc.postgresql.org/download/postgresql-42.2.9.jar"
      ],
      "execution_count": 2,
      "outputs": [
        {
          "output_type": "stream",
          "name": "stdout",
          "text": [
            "--2021-09-24 17:11:48--  https://jdbc.postgresql.org/download/postgresql-42.2.9.jar\n",
            "Resolving jdbc.postgresql.org (jdbc.postgresql.org)... 72.32.157.228, 2001:4800:3e1:1::228\n",
            "Connecting to jdbc.postgresql.org (jdbc.postgresql.org)|72.32.157.228|:443... connected.\n",
            "HTTP request sent, awaiting response... 200 OK\n",
            "Length: 914037 (893K) [application/java-archive]\n",
            "Saving to: ‘postgresql-42.2.9.jar’\n",
            "\n",
            "postgresql-42.2.9.j 100%[===================>] 892.61K  --.-KB/s    in 0.1s    \n",
            "\n",
            "2021-09-24 17:11:48 (6.03 MB/s) - ‘postgresql-42.2.9.jar’ saved [914037/914037]\n",
            "\n"
          ]
        }
      ]
    },
    {
      "cell_type": "code",
      "metadata": {
        "id": "Cu2xCgvVyqv6"
      },
      "source": [
        "from pyspark.sql import SparkSession\n",
        "spark = SparkSession.builder.appName(\"CloudETL\").config(\"spark.driver.extraClassPath\",\"/content/postgresql-42.2.9.jar\").getOrCreate()"
      ],
      "execution_count": 3,
      "outputs": []
    },
    {
      "cell_type": "markdown",
      "metadata": {
        "id": "V6lqnwWWzhcQ"
      },
      "source": [
        "x"
      ]
    },
    {
      "cell_type": "code",
      "metadata": {
        "colab": {
          "base_uri": "https://localhost:8080/"
        },
        "id": "-UxZ5uwKziv4",
        "outputId": "02387173-5e2a-4fbd-d733-93b9e22bf1bb"
      },
      "source": [
        "# Read in data\n",
        "# Instructions mention that Tab ('\\t')\n",
        "from pyspark import SparkFiles\n",
        "url='https://s3.amazonaws.com/amazon-reviews-pds/tsv/amazon_reviews_us_Luggage_v1_00.tsv.gz'\n",
        "spark.sparkContext.addFile(url)\n",
        "review_df = spark.read.csv(SparkFiles.get('amazon_reviews_us_Luggage_v1_00.tsv.gz'), sep='\\t', header=True, inferSchema=True)\n",
        "\n",
        "# Show DataFrame\n",
        "review_df.show()"
      ],
      "execution_count": 4,
      "outputs": [
        {
          "output_type": "stream",
          "name": "stdout",
          "text": [
            "+-----------+-----------+--------------+----------+--------------+--------------------+----------------+-----------+-------------+-----------+----+-----------------+--------------------+--------------------+-----------+\n",
            "|marketplace|customer_id|     review_id|product_id|product_parent|       product_title|product_category|star_rating|helpful_votes|total_votes|vine|verified_purchase|     review_headline|         review_body|review_date|\n",
            "+-----------+-----------+--------------+----------+--------------+--------------------+----------------+-----------+-------------+-----------+----+-----------------+--------------------+--------------------+-----------+\n",
            "|         US|   40884699| R9CO86UUJCAW5|B00VGTN02Y|     786681372|Teenage Mutant Ni...|         Luggage|          3|            0|          0|   N|                Y|my review of this...|my review of this...| 2015-08-31|\n",
            "|         US|   23208852|R3PR8X6QGVJ8B1|B005KIWL0E|     618251799|Kenneth Cole Reac...|         Luggage|          5|            0|          0|   N|                Y|          Five Stars|       Perfect size.| 2015-08-31|\n",
            "|         US|   17100246|R39BO2819ABUPF|B007UNSHJ6|     810480328|American Touriste...|         Luggage|          4|            0|          0|   N|                Y|            so good.|    So far, so good.| 2015-08-31|\n",
            "|         US|   13533670|R3ADL7V6EGGEEP|B00WHFNXB4|      20765193|15.5 Inch Purple ...|         Luggage|          4|            0|          0|   N|                Y|          Four Stars|seems nicely made...| 2015-08-31|\n",
            "|         US|   38541771|R1OXYPBPLVRMI5|B000M5NBYU|     812890709|Port & Company Zi...|         Luggage|          5|            0|          0|   N|                Y|           Dance Bag|Great bag for all...| 2015-08-31|\n",
            "|         US|   12686499|R1WYM8Z5ATQ98O|B00ACBJ89G|     624906499|J World New York ...|         Luggage|          3|            0|          0|   N|                Y|        TOO SMALL!!!|it´s nice BUT it´...| 2015-08-31|\n",
            "|         US|   27767206|R3LCIANTN1H9EC|B001H4BQ1A|     385044506|Voltage Valet Clo...|         Luggage|          4|            1|          1|   N|                Y|          Four Stars|It does the job b...| 2015-08-31|\n",
            "|         US|   46630606|R3U2M23N1P0KQ6|B00ESG6NDK|      51297652|Pro Packing Cubes...|         Luggage|          5|            0|          0|   N|                Y|          Five Stars|          Just fine.| 2015-08-31|\n",
            "|         US|   41622754|R29MB6N7HB6NZI|B00M14SAXC|     832113872|Girl's Dance Duff...|         Luggage|          1|            2|          2|   N|                Y|We were exited to...|We were exited to...| 2015-08-31|\n",
            "|         US|   15296380| RGEQ6DGRG7DQG|B012PC5QAY|     490793867|Disney Inside Out...|         Luggage|          5|            0|          0|   N|                Y|               cute!|Very nice and we'...| 2015-08-31|\n",
            "|         US|   21206415|R38HNH0BSS2KFE|B00VWKWWMG|     356411837|World Traveler 13...|         Luggage|          1|            1|          1|   N|                Y|            One Star|Brought it on vac...| 2015-08-31|\n",
            "|         US|   34554097|R2CATRM9CH59LY|B00N2U14UK|     326835930|Sherpani Trevia C...|         Luggage|          5|            4|          4|   N|                Y|A great bag for t...|I purchased this ...| 2015-08-31|\n",
            "|         US|   42252567|R18DMKNDPJ1BSN|B00K4F45CA|     954517686|Rockland Luggage ...|         Luggage|          5|            0|          1|   N|                Y|             Perfect|Love this light w...| 2015-08-31|\n",
            "|         US|    3532342| RZRSHBWXO3XUQ|B00U57FFA8|      98867907|Allant 16\" Padded...|         Luggage|          5|            0|          0|   N|                Y|it's durable and ...|Purchased this ba...| 2015-08-31|\n",
            "|         US|    7791634|R1BMTNSYCZY1NI|B00ROSRFQ8|     648371973|Polare Manly Real...|         Luggage|          3|            1|          1|   N|                Y|Strong well-made ...|I've had this bag...| 2015-08-31|\n",
            "|         US|    9911099| RPE2S0HZQ9EFP|B003ZV71BM|     406795103|American Flyer Lu...|         Luggage|          5|            0|          0|   N|                Y|          Five Stars|Love love love my...| 2015-08-31|\n",
            "|         US|   46124918|R2OOWJSFPDDA03|B00NJYB2JM|     255715129|Victoriatourist V...|         Luggage|          3|            0|          1|   N|                Y|         Three Stars|Smaller than expe...| 2015-08-31|\n",
            "|         US|     200537|R3EED64ZPXGZ92|B00LD0A4N4|     244117760|EcoCity Vintage C...|         Luggage|          3|            0|          0|   N|                Y|         Three Stars|Within the first ...| 2015-08-31|\n",
            "|         US|    1403856|R1BI8NF6YRH5HD|B00N5GVF6O|     626808161|Bolang Water Resi...|         Luggage|          5|            0|          0|   N|                Y|     Laptop backpack|Nice nice sturdy ...| 2015-08-31|\n",
            "|         US|    8201781| RUD7SDRQTAVMC|B00C75KZPQ|     176437087|Travelon Cosmetic...|         Luggage|          5|            0|          0|   N|                Y|           Fabulous!|Fabulous! Can use...| 2015-08-31|\n",
            "+-----------+-----------+--------------+----------+--------------+--------------------+----------------+-----------+-------------+-----------+----+-----------------+--------------------+--------------------+-----------+\n",
            "only showing top 20 rows\n",
            "\n"
          ]
        }
      ]
    },
    {
      "cell_type": "code",
      "metadata": {
        "colab": {
          "base_uri": "https://localhost:8080/"
        },
        "id": "1u9bsr1qFBrN",
        "outputId": "46b38a12-244f-4e5c-e985-31aa9e50dcd2"
      },
      "source": [
        "review_df.count()"
      ],
      "execution_count": 33,
      "outputs": [
        {
          "output_type": "execute_result",
          "data": {
            "text/plain": [
              "348657"
            ]
          },
          "metadata": {},
          "execution_count": 33
        }
      ]
    },
    {
      "cell_type": "code",
      "metadata": {
        "colab": {
          "base_uri": "https://localhost:8080/"
        },
        "id": "qt474JBE1baZ",
        "outputId": "82d17734-f63c-4e42-8988-664a09fe4915"
      },
      "source": [
        "# Drop null values\n",
        "dropna_df = review_df.dropna()\n",
        "dropna_df.count()"
      ],
      "execution_count": 57,
      "outputs": [
        {
          "output_type": "execute_result",
          "data": {
            "text/plain": [
              "348613"
            ]
          },
          "metadata": {},
          "execution_count": 57
        }
      ]
    },
    {
      "cell_type": "code",
      "metadata": {
        "colab": {
          "base_uri": "https://localhost:8080/"
        },
        "id": "49jEMWrN09fU",
        "outputId": "2dcbb816-f739-4da9-f241-c42bcf314c67"
      },
      "source": [
        "# Load in a sql function to use columns\n",
        "from pyspark.sql.functions import col\n",
        "\n",
        "# Filter for only columns with active users\n",
        "review_id_table_df =dropna_df.select(['review_id','product_id', 'star_rating','total_votes','vine','review_headline', 'review_body'])\n",
        "review_id_table_df.show()"
      ],
      "execution_count": 47,
      "outputs": [
        {
          "output_type": "stream",
          "name": "stdout",
          "text": [
            "+--------------+----------+-----------+-----------+----+--------------------+--------------------+\n",
            "|     review_id|product_id|star_rating|total_votes|vine|     review_headline|         review_body|\n",
            "+--------------+----------+-----------+-----------+----+--------------------+--------------------+\n",
            "| R9CO86UUJCAW5|B00VGTN02Y|          3|          0|   N|my review of this...|my review of this...|\n",
            "|R3PR8X6QGVJ8B1|B005KIWL0E|          5|          0|   N|          Five Stars|       Perfect size.|\n",
            "|R39BO2819ABUPF|B007UNSHJ6|          4|          0|   N|            so good.|    So far, so good.|\n",
            "|R3ADL7V6EGGEEP|B00WHFNXB4|          4|          0|   N|          Four Stars|seems nicely made...|\n",
            "|R1OXYPBPLVRMI5|B000M5NBYU|          5|          0|   N|           Dance Bag|Great bag for all...|\n",
            "|R1WYM8Z5ATQ98O|B00ACBJ89G|          3|          0|   N|        TOO SMALL!!!|it´s nice BUT it´...|\n",
            "|R3LCIANTN1H9EC|B001H4BQ1A|          4|          1|   N|          Four Stars|It does the job b...|\n",
            "|R3U2M23N1P0KQ6|B00ESG6NDK|          5|          0|   N|          Five Stars|          Just fine.|\n",
            "|R29MB6N7HB6NZI|B00M14SAXC|          1|          2|   N|We were exited to...|We were exited to...|\n",
            "| RGEQ6DGRG7DQG|B012PC5QAY|          5|          0|   N|               cute!|Very nice and we'...|\n",
            "|R38HNH0BSS2KFE|B00VWKWWMG|          1|          1|   N|            One Star|Brought it on vac...|\n",
            "|R2CATRM9CH59LY|B00N2U14UK|          5|          4|   N|A great bag for t...|I purchased this ...|\n",
            "|R18DMKNDPJ1BSN|B00K4F45CA|          5|          1|   N|             Perfect|Love this light w...|\n",
            "| RZRSHBWXO3XUQ|B00U57FFA8|          5|          0|   N|it's durable and ...|Purchased this ba...|\n",
            "|R1BMTNSYCZY1NI|B00ROSRFQ8|          3|          1|   N|Strong well-made ...|I've had this bag...|\n",
            "| RPE2S0HZQ9EFP|B003ZV71BM|          5|          0|   N|          Five Stars|Love love love my...|\n",
            "|R2OOWJSFPDDA03|B00NJYB2JM|          3|          1|   N|         Three Stars|Smaller than expe...|\n",
            "|R3EED64ZPXGZ92|B00LD0A4N4|          3|          0|   N|         Three Stars|Within the first ...|\n",
            "|R1BI8NF6YRH5HD|B00N5GVF6O|          5|          0|   N|     Laptop backpack|Nice nice sturdy ...|\n",
            "| RUD7SDRQTAVMC|B00C75KZPQ|          5|          0|   N|           Fabulous!|Fabulous! Can use...|\n",
            "+--------------+----------+-----------+-----------+----+--------------------+--------------------+\n",
            "only showing top 20 rows\n",
            "\n"
          ]
        }
      ]
    },
    {
      "cell_type": "code",
      "metadata": {
        "colab": {
          "base_uri": "https://localhost:8080/"
        },
        "id": "iqjdO9bQEVVp",
        "outputId": "1a39d0ad-2ccb-4027-f59d-b6129a52b4f3"
      },
      "source": [
        "import pyspark.sql.functions as F\n",
        "product_id_count= review_id_table_df.groupBy('product_id').count()\n",
        "product_id_count.sort(col(\"count\").desc()).show(truncate=False)\n",
        "# product_id_count.show()"
      ],
      "execution_count": 60,
      "outputs": [
        {
          "output_type": "stream",
          "name": "stdout",
          "text": [
            "+----------+-----+\n",
            "|product_id|count|\n",
            "+----------+-----+\n",
            "|B004EZG9X4|1948 |\n",
            "|B00A8SXGKA|1534 |\n",
            "|B00HSWJUI6|1384 |\n",
            "|B00KKXCJQU|1351 |\n",
            "|B004XAVT8K|1074 |\n",
            "|B000SKXRNO|887  |\n",
            "|B007B5POVC|839  |\n",
            "|B0082C62BO|623  |\n",
            "|B000SKXROI|545  |\n",
            "|B001TR0UZI|514  |\n",
            "|B004AB4YWA|503  |\n",
            "|B004AB70US|502  |\n",
            "|B006HMPV4A|497  |\n",
            "|B002VS8H3G|479  |\n",
            "|B00AIJ57OW|478  |\n",
            "|B000P8JBPC|467  |\n",
            "|B002B3FWXY|457  |\n",
            "|B005KDBHWM|450  |\n",
            "|B000YB7T04|448  |\n",
            "|B000F1RGBU|428  |\n",
            "+----------+-----+\n",
            "only showing top 20 rows\n",
            "\n"
          ]
        }
      ]
    },
    {
      "cell_type": "code",
      "metadata": {
        "colab": {
          "base_uri": "https://localhost:8080/"
        },
        "id": "UUVtE51HJSoq",
        "outputId": "aa506472-9585-47d9-b72b-b5d27ff82a40"
      },
      "source": [
        "product_id_count.count()"
      ],
      "execution_count": 49,
      "outputs": [
        {
          "output_type": "execute_result",
          "data": {
            "text/plain": [
              "64584"
            ]
          },
          "metadata": {},
          "execution_count": 49
        }
      ]
    },
    {
      "cell_type": "code",
      "metadata": {
        "colab": {
          "base_uri": "https://localhost:8080/"
        },
        "id": "uqtKvbfi1Wsf",
        "outputId": "c271350c-23bd-4087-f596-e5568aa29ab5"
      },
      "source": [
        "# -- Customer table for first data set\n",
        "counts_df = review_id_table_df.groupBy('vine').count()\n",
        "counts_df.show()"
      ],
      "execution_count": 52,
      "outputs": [
        {
          "output_type": "stream",
          "name": "stdout",
          "text": [
            "+----+------+\n",
            "|vine| count|\n",
            "+----+------+\n",
            "|   Y|   904|\n",
            "|   N|347709|\n",
            "+----+------+\n",
            "\n"
          ]
        }
      ]
    },
    {
      "cell_type": "code",
      "metadata": {
        "id": "WSs2BOR32Qpq"
      },
      "source": [
        "# Start Spark session\n",
        "from pyspark.sql import SparkSession\n",
        "spark = SparkSession.builder.appName(\"StopWords\").getOrCreate()"
      ],
      "execution_count": 53,
      "outputs": []
    },
    {
      "cell_type": "code",
      "metadata": {
        "id": "VFL4gW1h4W2t"
      },
      "source": [
        " # import stopwords library\n",
        "from pyspark.ml.feature import StopWordsRemover"
      ],
      "execution_count": 54,
      "outputs": []
    },
    {
      "cell_type": "code",
      "metadata": {
        "colab": {
          "base_uri": "https://localhost:8080/"
        },
        "id": "KJ6MQ51X4Z3J",
        "outputId": "40bb1715-225e-4f0e-9835-afbc34f03d3b"
      },
      "source": [
        "from pyspark.sql.functions import concat_ws\n",
        "\n",
        "review_id_table_df.withColumn(\"review_headline\", concat_ws(\"\", \"review_headline\")).show()\n"
      ],
      "execution_count": 55,
      "outputs": [
        {
          "output_type": "stream",
          "name": "stdout",
          "text": [
            "+--------------+----------+-----------+-----------+----+--------------------+--------------------+\n",
            "|     review_id|product_id|star_rating|total_votes|vine|     review_headline|         review_body|\n",
            "+--------------+----------+-----------+-----------+----+--------------------+--------------------+\n",
            "| R9CO86UUJCAW5|B00VGTN02Y|          3|          0|   N|my review of this...|my review of this...|\n",
            "|R3PR8X6QGVJ8B1|B005KIWL0E|          5|          0|   N|          Five Stars|       Perfect size.|\n",
            "|R39BO2819ABUPF|B007UNSHJ6|          4|          0|   N|            so good.|    So far, so good.|\n",
            "|R3ADL7V6EGGEEP|B00WHFNXB4|          4|          0|   N|          Four Stars|seems nicely made...|\n",
            "|R1OXYPBPLVRMI5|B000M5NBYU|          5|          0|   N|           Dance Bag|Great bag for all...|\n",
            "|R1WYM8Z5ATQ98O|B00ACBJ89G|          3|          0|   N|        TOO SMALL!!!|it´s nice BUT it´...|\n",
            "|R3LCIANTN1H9EC|B001H4BQ1A|          4|          1|   N|          Four Stars|It does the job b...|\n",
            "|R3U2M23N1P0KQ6|B00ESG6NDK|          5|          0|   N|          Five Stars|          Just fine.|\n",
            "|R29MB6N7HB6NZI|B00M14SAXC|          1|          2|   N|We were exited to...|We were exited to...|\n",
            "| RGEQ6DGRG7DQG|B012PC5QAY|          5|          0|   N|               cute!|Very nice and we'...|\n",
            "|R38HNH0BSS2KFE|B00VWKWWMG|          1|          1|   N|            One Star|Brought it on vac...|\n",
            "|R2CATRM9CH59LY|B00N2U14UK|          5|          4|   N|A great bag for t...|I purchased this ...|\n",
            "|R18DMKNDPJ1BSN|B00K4F45CA|          5|          1|   N|             Perfect|Love this light w...|\n",
            "| RZRSHBWXO3XUQ|B00U57FFA8|          5|          0|   N|it's durable and ...|Purchased this ba...|\n",
            "|R1BMTNSYCZY1NI|B00ROSRFQ8|          3|          1|   N|Strong well-made ...|I've had this bag...|\n",
            "| RPE2S0HZQ9EFP|B003ZV71BM|          5|          0|   N|          Five Stars|Love love love my...|\n",
            "|R2OOWJSFPDDA03|B00NJYB2JM|          3|          1|   N|         Three Stars|Smaller than expe...|\n",
            "|R3EED64ZPXGZ92|B00LD0A4N4|          3|          0|   N|         Three Stars|Within the first ...|\n",
            "|R1BI8NF6YRH5HD|B00N5GVF6O|          5|          0|   N|     Laptop backpack|Nice nice sturdy ...|\n",
            "| RUD7SDRQTAVMC|B00C75KZPQ|          5|          0|   N|           Fabulous!|Fabulous! Can use...|\n",
            "+--------------+----------+-----------+-----------+----+--------------------+--------------------+\n",
            "only showing top 20 rows\n",
            "\n"
          ]
        }
      ]
    },
    {
      "cell_type": "code",
      "metadata": {
        "colab": {
          "base_uri": "https://localhost:8080/"
        },
        "id": "bBNmL2TN8jCP",
        "outputId": "2289d3ac-a8a2-40e2-c3d1-ba7051316abb"
      },
      "source": [
        "from pyspark.sql.functions import split, col\n",
        "df2 =review_id_table_df.select(split(col(\"review_headline\"),\" \").alias(\"review_headline_tokens\")) \\\n",
        "    .drop(\"review_headline\")\n",
        "df2.printSchema()\n",
        "df2.show()"
      ],
      "execution_count": 56,
      "outputs": [
        {
          "output_type": "stream",
          "name": "stdout",
          "text": [
            "root\n",
            " |-- review_headline_tokens: array (nullable = true)\n",
            " |    |-- element: string (containsNull = true)\n",
            "\n",
            "+----------------------+\n",
            "|review_headline_tokens|\n",
            "+----------------------+\n",
            "|  [my, review, of, ...|\n",
            "|         [Five, Stars]|\n",
            "|           [so, good.]|\n",
            "|         [Four, Stars]|\n",
            "|          [Dance, Bag]|\n",
            "|       [TOO, SMALL!!!]|\n",
            "|         [Four, Stars]|\n",
            "|         [Five, Stars]|\n",
            "|  [We, were, exited...|\n",
            "|               [cute!]|\n",
            "|           [One, Star]|\n",
            "|  [A, great, bag, f...|\n",
            "|             [Perfect]|\n",
            "|  [it's, durable, a...|\n",
            "|  [Strong, well-mad...|\n",
            "|         [Five, Stars]|\n",
            "|        [Three, Stars]|\n",
            "|        [Three, Stars]|\n",
            "|    [Laptop, backpack]|\n",
            "|           [Fabulous!]|\n",
            "+----------------------+\n",
            "only showing top 20 rows\n",
            "\n"
          ]
        }
      ]
    },
    {
      "cell_type": "code",
      "metadata": {
        "id": "HbFFhs7o8tCM"
      },
      "source": [
        ""
      ],
      "execution_count": null,
      "outputs": []
    }
  ]
}